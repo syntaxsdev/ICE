{
 "cells": [
  {
   "cell_type": "code",
   "execution_count": 1,
   "metadata": {},
   "outputs": [
    {
     "ename": "ImportError",
     "evalue": "attempted relative import beyond top-level package",
     "output_type": "error",
     "traceback": [
      "\u001b[0;31m---------------------------------------------------------------------------\u001b[0m",
      "\u001b[0;31mImportError\u001b[0m                               Traceback (most recent call last)",
      "Cell \u001b[0;32mIn[1], line 2\u001b[0m\n\u001b[1;32m      1\u001b[0m \u001b[39mfrom\u001b[39;00m \u001b[39mConfigManager\u001b[39;00m \u001b[39mimport\u001b[39;00m ConfigManager\n\u001b[0;32m----> 2\u001b[0m \u001b[39mfrom\u001b[39;00m \u001b[39mservices\u001b[39;00m\u001b[39m.\u001b[39;00m\u001b[39miMessageBroker\u001b[39;00m \u001b[39mimport\u001b[39;00m iMessageBroker\n\u001b[1;32m      4\u001b[0m base \u001b[39m=\u001b[39m ConfigManager()\n\u001b[1;32m      5\u001b[0m imb \u001b[39m=\u001b[39m iMessageBroker(base)\n",
      "File \u001b[0;32m~/Desktop/ICE/src/services/iMessageBroker.py:2\u001b[0m\n\u001b[1;32m      1\u001b[0m \u001b[39mimport\u001b[39;00m \u001b[39mos\u001b[39;00m\u001b[39m,\u001b[39m \u001b[39mjson\u001b[39;00m\u001b[39m,\u001b[39m \u001b[39mtime\u001b[39;00m\u001b[39m,\u001b[39m \u001b[39mrequests\u001b[39;00m\n\u001b[0;32m----> 2\u001b[0m \u001b[39mfrom\u001b[39;00m \u001b[39m.\u001b[39;00m\u001b[39m.\u001b[39;00m\u001b[39mConfigManager\u001b[39;00m \u001b[39mimport\u001b[39;00m ConfigManager\n\u001b[1;32m      3\u001b[0m \u001b[39mfrom\u001b[39;00m \u001b[39m.\u001b[39;00m\u001b[39m.\u001b[39;00m\u001b[39mmodels\u001b[39;00m\u001b[39m.\u001b[39;00m\u001b[39miMessageModel\u001b[39;00m \u001b[39mimport\u001b[39;00m Attachment, AttachmentsModel, OutgoingMessageModel, RecipientModel, BodyModel\n\u001b[1;32m      4\u001b[0m \u001b[39mfrom\u001b[39;00m \u001b[39mtyping\u001b[39;00m \u001b[39mimport\u001b[39;00m Optional, Union\n",
      "\u001b[0;31mImportError\u001b[0m: attempted relative import beyond top-level package"
     ]
    }
   ],
   "source": [
    "from ConfigManager import ConfigManager\n",
    "from iMessageBroker import iMessageBroker\n",
    "\n",
    "base = ConfigManager()\n",
    "imb = iMessageBroker(base)\n",
    "\n",
    "gc = imb.handles['gc']\n",
    "#imb.send_message(\"\", gc, attachments=f\"{base.images_dir}/gpt.png\")"
   ]
  },
  {
   "cell_type": "code",
   "execution_count": 12,
   "metadata": {},
   "outputs": [
    {
     "name": "stdout",
     "output_type": "stream",
     "text": [
      "{'body': {'message': ''}, 'recipient': {'handle': 'iMessage;+;chat731955237369046921'}, 'attachments': [{'filePath': '/Users/cordero/Pictures/_imb/gpt.png'}]}\n"
     ]
    }
   ],
   "source": [
    "imb.send_message(\"\", gc, attachments=f\"{base.images_dir}/gpt.png\")"
   ]
  },
  {
   "cell_type": "code",
   "execution_count": 13,
   "metadata": {},
   "outputs": [],
   "source": [
    "import os, shutil\n",
    "images_dir = os.path.join(os.path.expanduser(\"~\"), \"Pictures\", \"_imgs\")\n",
    "if not os.path.exists(images_dir):\n",
    "    os.makedirs(images_dir)\n",
    "else:\n",
    "    shutil.rmtree(images_dir)\n",
    "    os.makedirs(images_dir)\n"
   ]
  },
  {
   "cell_type": "code",
   "execution_count": null,
   "metadata": {},
   "outputs": [],
   "source": [
    "from typing import Optional\n",
    "from abc import ABC\n",
    "from iMessageBroker import iMessageBroker\n",
    "\n",
    "class MessageDispatch:\n",
    "    def __init__(self, config):\n",
    "        self.imb = iMessageBroker(config)"
   ]
  },
  {
   "cell_type": "code",
   "execution_count": 23,
   "metadata": {},
   "outputs": [
    {
     "ename": "ModuleNotFoundError",
     "evalue": "No module named 'models'",
     "output_type": "error",
     "traceback": [
      "\u001b[0;31m---------------------------------------------------------------------------\u001b[0m",
      "\u001b[0;31mModuleNotFoundError\u001b[0m                       Traceback (most recent call last)",
      "Cell \u001b[0;32mIn[23], line 3\u001b[0m\n\u001b[1;32m      1\u001b[0m \u001b[39mfrom\u001b[39;00m \u001b[39msrc\u001b[39;00m\u001b[39m.\u001b[39;00m\u001b[39mConfigManager\u001b[39;00m \u001b[39mimport\u001b[39;00m ConfigManager\n\u001b[1;32m      2\u001b[0m \u001b[39mfrom\u001b[39;00m \u001b[39msrc\u001b[39;00m\u001b[39m.\u001b[39;00m\u001b[39miMessageBroker\u001b[39;00m \u001b[39mimport\u001b[39;00m iMessageBroker\n\u001b[0;32m----> 3\u001b[0m \u001b[39mfrom\u001b[39;00m \u001b[39msrc\u001b[39;00m\u001b[39m.\u001b[39;00m\u001b[39mmodels\u001b[39;00m\u001b[39m.\u001b[39;00m\u001b[39mEquity\u001b[39;00m \u001b[39mimport\u001b[39;00m \u001b[39m*\u001b[39m\n\u001b[1;32m      6\u001b[0m base \u001b[39m=\u001b[39m ConfigManager(\u001b[39m\"\u001b[39m\u001b[39msrc/config.yml\u001b[39m\u001b[39m\"\u001b[39m)\n\u001b[1;32m      7\u001b[0m imb \u001b[39m=\u001b[39m iMessageBroker(base)\n",
      "File \u001b[0;32m~/Desktop/ICE/src/models/Equity.py:4\u001b[0m\n\u001b[1;32m      2\u001b[0m \u001b[39mfrom\u001b[39;00m \u001b[39mtyping\u001b[39;00m \u001b[39mimport\u001b[39;00m Optional, Union\n\u001b[1;32m      3\u001b[0m \u001b[39mfrom\u001b[39;00m \u001b[39menum\u001b[39;00m \u001b[39mimport\u001b[39;00m Enum\n\u001b[0;32m----> 4\u001b[0m \u001b[39mfrom\u001b[39;00m \u001b[39mmodels\u001b[39;00m\u001b[39m.\u001b[39;00m\u001b[39mMovingAverage\u001b[39;00m \u001b[39mimport\u001b[39;00m \u001b[39m*\u001b[39m\n\u001b[1;32m      7\u001b[0m \u001b[39mclass\u001b[39;00m \u001b[39mType\u001b[39;00m(\u001b[39mstr\u001b[39m, Enum):\n\u001b[1;32m      8\u001b[0m     BULL \u001b[39m=\u001b[39m \u001b[39m\"\u001b[39m\u001b[39mBULL\u001b[39m\u001b[39m\"\u001b[39m\n",
      "\u001b[0;31mModuleNotFoundError\u001b[0m: No module named 'models'"
     ]
    }
   ],
   "source": [
    "from src.ConfigManager import ConfigManager\n",
    "from src.iMessageBroker import iMessageBroker\n",
    "from src.models.Equity import *\n",
    "\n",
    "\n",
    "base = ConfigManager(\"src/config.yml\")\n",
    "imb = iMessageBroker(base)"
   ]
  },
  {
   "cell_type": "code",
   "execution_count": 7,
   "metadata": {},
   "outputs": [],
   "source": [
    "outfits = base.read_yaml(\"src/industry/outfits.yml\")\n",
    "equities = base.read_yaml(\"src/industry/equities.yml\")"
   ]
  },
  {
   "cell_type": "code",
   "execution_count": 24,
   "metadata": {},
   "outputs": [
    {
     "data": {
      "text/plain": [
       "{'standard': {'set': [10, 50, 200, 250, 555],\n",
       "  'cross_set': [[10, 50], [10, 200], [50, 200]]},\n",
       " 'angels369': {'set': [33, 66, 99, 333, 666, 999],\n",
       "  'cross_set': [[33, 66], [33, 99], [66, 333]]},\n",
       " 'angels257': {'set': [22, 55, 77, 222, 555, 777],\n",
       "  'cross_set': [[22, 55], [22, 77], [55, 222], [55, 555]]},\n",
       " 'angels148': {'set': [11, 44, 88, 111, 444, 888],\n",
       "  'cross_set': [[11, 44], [11, 111], [11, 111]]},\n",
       " 'waring': {'set': [19, 37, 73, 143, 270, 548],\n",
       "  'cross_set': [[19, 37], [19, 73]]},\n",
       " 'tesla': {'set': [27, 53, 105, 210, 420, 840],\n",
       "  'cross_set': [[19, 37], [19, 73]]},\n",
       " 'bits': {'set': [16, 32, 64, 128, 256, 512],\n",
       "  'cross_set': [[16, 32], [16, 64], [32, 64], [64, 128]]}}"
      ]
     },
     "execution_count": 24,
     "metadata": {},
     "output_type": "execute_result"
    }
   ],
   "source": [
    "outfits"
   ]
  },
  {
   "cell_type": "code",
   "execution_count": 17,
   "metadata": {},
   "outputs": [
    {
     "name": "stdout",
     "output_type": "stream",
     "text": [
      "{'ticker': 'IXIC', 'is_index': True, 'index_equity': [{'ticker': 'QQQ'}], 'leveraged_equity': [{'ticker': 'TQQQ', 'leverage': 3, 'type': 'BULL'}, {'ticker': 'SQQQ', 'leverage': 3, 'type': 'BEAR'}], 'outfit_set': {...}}\n"
     ]
    }
   ],
   "source": [
    "for equity:  in equities:\n",
    "    equ"
   ]
  },
  {
   "cell_type": "code",
   "execution_count": null,
   "metadata": {},
   "outputs": [],
   "source": []
  }
 ],
 "metadata": {
  "kernelspec": {
   "display_name": ".venv",
   "language": "python",
   "name": "python3"
  },
  "language_info": {
   "codemirror_mode": {
    "name": "ipython",
    "version": 3
   },
   "file_extension": ".py",
   "mimetype": "text/x-python",
   "name": "python",
   "nbconvert_exporter": "python",
   "pygments_lexer": "ipython3",
   "version": "3.9.6"
  },
  "orig_nbformat": 4
 },
 "nbformat": 4,
 "nbformat_minor": 2
}
